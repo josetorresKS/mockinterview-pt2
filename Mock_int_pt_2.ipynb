{
  "nbformat": 4,
  "nbformat_minor": 0,
  "metadata": {
    "colab": {
      "name": "Mock int. pt 2.ipynb",
      "provenance": [],
      "authorship_tag": "ABX9TyOVb1Stjst4KQVsbPIno1DQ",
      "include_colab_link": true
    },
    "kernelspec": {
      "name": "python3",
      "display_name": "Python 3"
    },
    "language_info": {
      "name": "python"
    }
  },
  "cells": [
    {
      "cell_type": "markdown",
      "metadata": {
        "id": "view-in-github",
        "colab_type": "text"
      },
      "source": [
        "<a href=\"https://colab.research.google.com/github/josetorresKS/mockinterview-pt2/blob/main/Mock_int_pt_2.ipynb\" target=\"_parent\"><img src=\"https://colab.research.google.com/assets/colab-badge.svg\" alt=\"Open In Colab\"/></a>"
      ]
    },
    {
      "cell_type": "markdown",
      "source": [
        "Question 1: Given an array of ints, return True if the array contains a 2 next to a 2 somewhere.\n",
        "\n",
        "has22([1, 2, 2]) → True has22([1, 2, 1, 2]) → False has22([2, 1, 2]) → False\n"
      ],
      "metadata": {
        "id": "UUyktOEVtUFo"
      }
    },
    {
      "cell_type": "code",
      "source": [
        "# Using a for loop to check if the iterated number, nums[i] == 2 \"and\" the one very next to it, [i+1] == 2 as well.\n",
        "\n",
        "# (len(nums)-1): this line prevents it from going out of the range through the for loop as the i+1 on the final loop will check out of the range.\n",
        "\n",
        "\n",
        "def has22(nums):\n",
        "    for i in range(len(nums) - 1):\n",
        "        if nums[i] == 2 and nums[i + 1] == 2:\n",
        "            return True\n",
        "    return False\n",
        "\n",
        "has22([1, 2, 2])\n",
        "\n",
        "# has22([1, 2, 1, 2])\n",
        "\n",
        "# has22([2, 1, 2])"
      ],
      "metadata": {
        "colab": {
          "base_uri": "https://localhost:8080/"
        },
        "id": "fxTYqx_St6TS",
        "outputId": "8f27aa76-01a8-42e8-9015-4f19f08e1603"
      },
      "execution_count": 62,
      "outputs": [
        {
          "output_type": "execute_result",
          "data": {
            "text/plain": [
              "True"
            ]
          },
          "metadata": {},
          "execution_count": 62
        }
      ]
    },
    {
      "cell_type": "markdown",
      "source": [
        "\n",
        "Question-2:Return the sum of the numbers in the array, except ignore sections of numbers starting with a 6 and extending to the next 7 (every 6 will be followed by at least one 7). Return 0 for no numbers.\n",
        "sum67([1, 2, 2]) → 5 sum67([1, 2, 2, 6, 99, 99, 7]) → 5 sum67([1, 1, 6, 7, 2]) → 4\n"
      ],
      "metadata": {
        "id": "7H5RHimKbWzq"
      }
    },
    {
      "cell_type": "code",
      "source": [
        "# The variable x tells us whether we're in a region of the list where we can add the numbers. \n",
        "# We immediately make it False if we see a 6, and keep it False until we see the following 7.\n",
        "\n",
        "\n",
        "def sum67(nums):\n",
        "\n",
        "  x = True\n",
        "  sum = 0\n",
        "  \n",
        "  for n in nums:\n",
        "  \n",
        "    if n == 6:\n",
        "      x = False\n",
        "      \n",
        "    elif x:\n",
        "      sum += n\n",
        "    \n",
        "    elif not x and n == 7:\n",
        "      x = True\n",
        "  \n",
        "  return sum\n",
        "\n",
        "# sum67([1, 2, 2])\n",
        "\n",
        "# sum67([1, 2, 2, 6, 99, 99, 7])\n",
        "\n",
        "sum67([1, 1, 6, 7, 2])"
      ],
      "metadata": {
        "colab": {
          "base_uri": "https://localhost:8080/"
        },
        "id": "hOq7LHSyePXF",
        "outputId": "12cd2606-63f7-4ba6-dceb-c6786ff13abd"
      },
      "execution_count": 68,
      "outputs": [
        {
          "output_type": "execute_result",
          "data": {
            "text/plain": [
              "4"
            ]
          },
          "metadata": {},
          "execution_count": 68
        }
      ]
    },
    {
      "cell_type": "markdown",
      "source": [
        "Question-3:Return the number of even ints in the given array. Note: the % “mod” operator computes the remainder, e.g. 5 % 2 is 1.\n",
        "count_evens([2, 1, 2, 3, 4]) → 3 count_evens([2, 2, 0]) → 3 count_evens([1, 3, 5]) → 0"
      ],
      "metadata": {
        "id": "Ir6OWcrTfyWP"
      }
    },
    {
      "cell_type": "code",
      "source": [
        "\n",
        "# The list comprehension expression: \"[n for n in nums if n % 2 == 0]\" selects and creates a new list based on the nums list, but containing only its even elements.\n",
        "# The len() of this new list returns the answer requested.\n",
        "\n",
        "\n",
        "def count_evens(nums):\n",
        "  return len([n for n in nums if n % 2 == 0])\n",
        "\n",
        "\n",
        "# count_evens([2, 1, 2, 3, 4])\n",
        "\n",
        "# count_evens([2, 2, 0])\n",
        "\n",
        "count_evens([1, 3, 5])\n"
      ],
      "metadata": {
        "colab": {
          "base_uri": "https://localhost:8080/"
        },
        "id": "_QZTj8cvgUqk",
        "outputId": "0e6b8cde-c6ac-4d74-94de-c34de5b93d4d"
      },
      "execution_count": 65,
      "outputs": [
        {
          "output_type": "execute_result",
          "data": {
            "text/plain": [
              "0"
            ]
          },
          "metadata": {},
          "execution_count": 65
        }
      ]
    },
    {
      "cell_type": "markdown",
      "source": [
        "Question-4:Given a string, return a string where for every char in the original, there are two chars.\n",
        "double_char(‘The’) → ‘TThhee’ double_char(‘AAbb’) → ‘AAAAbbbb’ double_char(‘Hi-There’) → ‘HHii--TThheerree’"
      ],
      "metadata": {
        "id": "UjcPVUvqhSCv"
      }
    },
    {
      "cell_type": "code",
      "source": [
        "# function double_char takes argument str\n",
        "# create an empty string assign to variable double_char. In python you put \"\" or '' around text that you want as a string (text).\n",
        "# iterate from 0 to length of string\n",
        "# append character at position i from str and duplicate it\n",
        "# return double_char\n",
        "\n",
        "\n",
        "def double_char(str):            \n",
        "    double_char = \"\"             \n",
        "    for i in range(len(str)):    \n",
        "        double_char += str[i]*2  \n",
        "    return double_char           \n",
        "\n",
        "double_char('The')\n",
        "\n",
        "# double_char('AAbb')\n",
        "\n",
        "# double_char('Hi-There')"
      ],
      "metadata": {
        "colab": {
          "base_uri": "https://localhost:8080/",
          "height": 35
        },
        "id": "8nUVbcIbhVRU",
        "outputId": "89902931-dd55-4736-e798-76713a14d93e"
      },
      "execution_count": 71,
      "outputs": [
        {
          "output_type": "execute_result",
          "data": {
            "application/vnd.google.colaboratory.intrinsic+json": {
              "type": "string"
            },
            "text/plain": [
              "'TThhee'"
            ]
          },
          "metadata": {},
          "execution_count": 71
        }
      ]
    },
    {
      "cell_type": "markdown",
      "source": [
        "\n",
        "Question-5: Given an array of ints, return True if the sequence of numbers 1, 2, 3 appears in the array somewhere.\n",
        "array123([1, 1, 2, 3, 1]) → True array123([1, 1, 2, 4, 1]) → False array123([1, 1, 2, 1, 2, 3]) → True"
      ],
      "metadata": {
        "id": "1lXORNXYhAme"
      }
    },
    {
      "cell_type": "code",
      "source": [
        "\n",
        "\n",
        "def array123(nums):\n",
        "    for i in range(len(nums)-2):\n",
        "        if nums[i] == 1 and nums[i+1] == 2 and nums[i+2] == 3:\n",
        "            return True\n",
        "    return False\n",
        "\n",
        "array123([1, 1, 2, 3, 1])\n",
        "\n",
        "# array123([1, 1, 2, 4, 1])\n",
        "\n",
        "# array123([1, 1, 2, 1, 2, 3]) \n",
        "\n"
      ],
      "metadata": {
        "colab": {
          "base_uri": "https://localhost:8080/"
        },
        "id": "f79K7pQRhGiA",
        "outputId": "e84f7cbe-81ef-429e-8fdb-c39882311812"
      },
      "execution_count": 72,
      "outputs": [
        {
          "output_type": "execute_result",
          "data": {
            "text/plain": [
              "True"
            ]
          },
          "metadata": {},
          "execution_count": 72
        }
      ]
    },
    {
      "cell_type": "code",
      "source": [
        ""
      ],
      "metadata": {
        "colab": {
          "base_uri": "https://localhost:8080/",
          "height": 35
        },
        "id": "zjCehBGMRqyc",
        "outputId": "c17a8548-444b-420c-b5b1-deb279edad2b"
      },
      "execution_count": 70,
      "outputs": [
        {
          "output_type": "execute_result",
          "data": {
            "application/vnd.google.colaboratory.intrinsic+json": {
              "type": "string"
            },
            "text/plain": [
              "'HHii--TThheerree'"
            ]
          },
          "metadata": {},
          "execution_count": 70
        }
      ]
    }
  ]
}