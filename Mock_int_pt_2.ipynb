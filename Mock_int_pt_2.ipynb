{
  "nbformat": 4,
  "nbformat_minor": 0,
  "metadata": {
    "colab": {
      "name": "Mock int. pt 2.ipynb",
      "provenance": [],
      "authorship_tag": "ABX9TyPXlGwc51TQrUGS7i7rpCYG",
      "include_colab_link": true
    },
    "kernelspec": {
      "name": "python3",
      "display_name": "Python 3"
    },
    "language_info": {
      "name": "python"
    }
  },
  "cells": [
    {
      "cell_type": "markdown",
      "metadata": {
        "id": "view-in-github",
        "colab_type": "text"
      },
      "source": [
        "<a href=\"https://colab.research.google.com/github/josetorresKS/mockinterview-pt2/blob/main/Mock_int_pt_2.ipynb\" target=\"_parent\"><img src=\"https://colab.research.google.com/assets/colab-badge.svg\" alt=\"Open In Colab\"/></a>"
      ]
    },
    {
      "cell_type": "markdown",
      "source": [
        "Question 1: Given an array of ints, return True if the array contains a 2 next to a 2 somewhere.\n",
        "\n",
        "has22([1, 2, 2]) → True has22([1, 2, 1, 2]) → False has22([2, 1, 2]) → False\n"
      ],
      "metadata": {
        "id": "UUyktOEVtUFo"
      }
    },
    {
      "cell_type": "code",
      "source": [
        "def has22(nums):\n",
        "    return any(nums[i+1] == nums[i] == 2 for i in range(len(nums)-1))\n",
        "\n",
        "\n",
        "# has22([1, 2, 2])\n",
        "\n",
        "has22([1, 2, 1, 2])\n",
        "\n",
        "# has22([2, 1, 2])"
      ],
      "metadata": {
        "colab": {
          "base_uri": "https://localhost:8080/"
        },
        "id": "fxTYqx_St6TS",
        "outputId": "439c4726-9c8a-4099-e8e4-f0e61490c001"
      },
      "execution_count": 40,
      "outputs": [
        {
          "output_type": "execute_result",
          "data": {
            "text/plain": [
              "False"
            ]
          },
          "metadata": {},
          "execution_count": 40
        }
      ]
    },
    {
      "cell_type": "markdown",
      "source": [
        "\n",
        "Question-2:Return the sum of the numbers in the array, except ignore sections of numbers starting with a 6 and extending to the next 7 (every 6 will be followed by at least one 7). Return 0 for no numbers.\n",
        "sum67([1, 2, 2]) → 5 sum67([1, 2, 2, 6, 99, 99, 7]) → 5 sum67([1, 1, 6, 7, 2]) → 4\n"
      ],
      "metadata": {
        "id": "7H5RHimKbWzq"
      }
    },
    {
      "cell_type": "code",
      "source": [
        "def sum67(nums):\n",
        "    state=0\n",
        "    s=0\n",
        "    for n in nums:\n",
        "        if state == 0:\n",
        "            if n == 6:\n",
        "                state=1\n",
        "            else:\n",
        "                s+=n\n",
        "        else:\n",
        "            if n == 7:\n",
        "                state=0\n",
        "    return s\n",
        "\n",
        "# sum67([1, 2, 2])\n",
        "\n",
        "# sum67([1, 2, 2, 6, 99, 99, 7])\n",
        "\n",
        "sum67([1, 1, 6, 7, 2])"
      ],
      "metadata": {
        "colab": {
          "base_uri": "https://localhost:8080/"
        },
        "id": "hOq7LHSyePXF",
        "outputId": "cb92d0bd-0a3c-489d-b29f-496b9b443922"
      },
      "execution_count": null,
      "outputs": [
        {
          "output_type": "execute_result",
          "data": {
            "text/plain": [
              "4"
            ]
          },
          "metadata": {},
          "execution_count": 26
        }
      ]
    },
    {
      "cell_type": "markdown",
      "source": [
        "Question-3:Return the number of even ints in the given array. Note: the % “mod” operator computes the remainder, e.g. 5 % 2 is 1.\n",
        "count_evens([2, 1, 2, 3, 4]) → 3 count_evens([2, 2, 0]) → 3 count_evens([1, 3, 5]) → 0"
      ],
      "metadata": {
        "id": "Ir6OWcrTfyWP"
      }
    },
    {
      "cell_type": "code",
      "source": [
        "def count_evens(nums):\n",
        "  count = 0\n",
        "  for i in range(len(nums)):\n",
        "    if nums[i] % 2 == 0:\n",
        "      count += 1\n",
        "  return count\n",
        "\n",
        "\n",
        "# count_evens([2, 1, 2, 3, 4])\n",
        "\n",
        "# count_evens([2, 2, 0])\n",
        "\n",
        "count_evens([1, 3, 5])\n"
      ],
      "metadata": {
        "colab": {
          "base_uri": "https://localhost:8080/"
        },
        "id": "_QZTj8cvgUqk",
        "outputId": "83dc6417-c220-4d52-a64e-371530b06a72"
      },
      "execution_count": null,
      "outputs": [
        {
          "output_type": "execute_result",
          "data": {
            "text/plain": [
              "0"
            ]
          },
          "metadata": {},
          "execution_count": 32
        }
      ]
    },
    {
      "cell_type": "markdown",
      "source": [
        "Question-4:Given a string, return a string where for every char in the original, there are two chars.\n",
        "double_char(‘The’) → ‘TThhee’ double_char(‘AAbb’) → ‘AAAAbbbb’ double_char(‘Hi-There’) → ‘HHii--TThheerree’"
      ],
      "metadata": {
        "id": "UjcPVUvqhSCv"
      }
    },
    {
      "cell_type": "code",
      "source": [
        "def double_char(str):\n",
        "  str2 = \"\"\n",
        "  for i in str:\n",
        "    str2 = str2+i+i\n",
        "  return str2\n",
        "\n",
        "double_char('The')\n",
        "\n",
        "# double_char('AAbb')\n",
        "\n",
        "# double_char('Hi-There')"
      ],
      "metadata": {
        "colab": {
          "base_uri": "https://localhost:8080/",
          "height": 35
        },
        "id": "8nUVbcIbhVRU",
        "outputId": "79d81478-02e2-4c7f-ac69-9c7fa919160b"
      },
      "execution_count": null,
      "outputs": [
        {
          "output_type": "execute_result",
          "data": {
            "application/vnd.google.colaboratory.intrinsic+json": {
              "type": "string"
            },
            "text/plain": [
              "'HHii--TThheerree'"
            ]
          },
          "metadata": {},
          "execution_count": 38
        }
      ]
    },
    {
      "cell_type": "markdown",
      "source": [
        "\n",
        "Question-5: Given an array of ints, return True if the sequence of numbers 1, 2, 3 appears in the array somewhere.\n",
        "array123([1, 1, 2, 3, 1]) → True array123([1, 1, 2, 4, 1]) → False array123([1, 1, 2, 1, 2, 3]) → True"
      ],
      "metadata": {
        "id": "1lXORNXYhAme"
      }
    },
    {
      "cell_type": "code",
      "source": [
        "def array123(nums):\n",
        "    for i in range(len(nums)-2):\n",
        "        if nums[i] == 1 and nums[i+1] == 2 and nums[i+2] == 3:\n",
        "            return True\n",
        "    return False\n",
        "\n",
        "array123([1, 1, 2, 3, 1])\n",
        "\n",
        "# array123([1, 1, 2, 4, 1])\n",
        "\n",
        "# array123([1, 1, 2, 1, 2, 3]) \n",
        "\n"
      ],
      "metadata": {
        "colab": {
          "base_uri": "https://localhost:8080/"
        },
        "id": "f79K7pQRhGiA",
        "outputId": "966bd48c-ec3c-4579-f4fe-b8e4bc91a384"
      },
      "execution_count": null,
      "outputs": [
        {
          "output_type": "execute_result",
          "data": {
            "text/plain": [
              "True"
            ]
          },
          "metadata": {},
          "execution_count": 34
        }
      ]
    }
  ]
}